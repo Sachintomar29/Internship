{
 "cells": [
  {
   "cell_type": "markdown",
   "id": "403e94a6",
   "metadata": {},
   "source": [
    "# Project -1 \"Regular Expressions\""
   ]
  },
  {
   "cell_type": "markdown",
   "id": "57dccc7b",
   "metadata": {},
   "source": [
    "Question 1- Write a Python program to replace all occurrences of a space, comma, or dot with a colon.\n",
    "\n",
    "Sample Text- 'Python Exercises, PHP exercises.'\n",
    "Expected Output: Python:Exercises::PHP:exercises:\n"
   ]
  },
  {
   "cell_type": "code",
   "execution_count": 1,
   "id": "96bc8cc9",
   "metadata": {
    "scrolled": true
   },
   "outputs": [
    {
     "name": "stdout",
     "output_type": "stream",
     "text": [
      "Python.Exercises..PHP.exercises.\n"
     ]
    }
   ],
   "source": [
    "import re\n",
    "stext= 'Python Exercises, PHP exercises.'\n",
    "print(re.sub(\"[ ,.]\",\".\",stext))\n"
   ]
  },
  {
   "cell_type": "markdown",
   "id": "d1b0f677",
   "metadata": {},
   "source": [
    "Question 2-  Create a dataframe using the dictionary below and remove everything (commas (,), !, XXXX, ;, etc.) from the columns except words.\n",
    "Dictionary- {'SUMMARY' : ['hello, world!', 'XXXXX test', '123four, five:; six...']}\n",
    "Expected output-\n",
    "0      hello world\n",
    "1             test\n",
    "2    four five six\n"
   ]
  },
  {
   "cell_type": "code",
   "execution_count": 5,
   "id": "2b34c531",
   "metadata": {},
   "outputs": [
    {
     "name": "stdout",
     "output_type": "stream",
     "text": [
      "0      hello world\n",
      "1       XXXXX test\n",
      "2    four five six\n",
      "Name: SUMMARY, dtype: object\n"
     ]
    }
   ],
   "source": [
    "import pandas as pd\n",
    "dict={'SUMMARY' : ['hello, world!', 'XXXXX test', '123four, five:; six...']}\n",
    "df=pd.DataFrame(dict)\n",
    "df=df['SUMMARY'].str.replace('[^a-zA-Z\\s]', '', regex=True)\n",
    "print(df)"
   ]
  },
  {
   "cell_type": "markdown",
   "id": "12487de6",
   "metadata": {},
   "source": [
    " Question 3- Create a function in python to find all words that are at least 4 characters long in a string. The use of the re.compile() method is mandatory."
   ]
  },
  {
   "cell_type": "code",
   "execution_count": 1,
   "id": "ea56bcac",
   "metadata": {},
   "outputs": [
    {
     "name": "stdout",
     "output_type": "stream",
     "text": [
      "['barking', 'street']\n"
     ]
    }
   ],
   "source": [
    "import re\n",
    "\n",
    "def find_long_words(string):\n",
    "  pattern = re.compile(r'\\b\\w{4,}\\b')\n",
    "  long_words = pattern.findall(string)\n",
    "  return long_words\n",
    "string = \"Dog is barking in the street.\"\n",
    "result = find_long_words(string)\n",
    "print(result)\n"
   ]
  },
  {
   "cell_type": "markdown",
   "id": "aee9ac83",
   "metadata": {},
   "source": [
    "Question 4- Create a function in python to find all three, four, and five character words in a string. The use of the re.compile() method is mandatory."
   ]
  },
  {
   "cell_type": "code",
   "execution_count": 2,
   "id": "9c587d8a",
   "metadata": {},
   "outputs": [
    {
     "name": "stdout",
     "output_type": "stream",
     "text": [
      "['Two', 'two']\n"
     ]
    }
   ],
   "source": [
    "import re\n",
    "\n",
    "def find_words(string):\n",
    "  pattern = re.compile(r'\\b\\w{3,5}\\b')\n",
    "  matches = pattern.findall(string)\n",
    "  return matches\n",
    "string = \"Two objects,two things.\"\n",
    "result = find_words(string)\n",
    "print(result)"
   ]
  },
  {
   "cell_type": "markdown",
   "id": "543f2abd",
   "metadata": {},
   "source": [
    "Question 5- Create a function in Python to remove the parenthesis in a list of strings. The use of the re.compile() method is mandatory.\n",
    "Sample Text: [\"example (.com)\", \"hr@fliprobo (.com)\", \"github (.com)\", \"Hello (Data Science World)\", \"Data (Scientist)\"]\n",
    "Expected Output:\n",
    "example.com\n",
    "hr@fliprobo.com\n",
    "github.com\n",
    "Hello Data Science World\n",
    "Data Scientist\n"
   ]
  },
  {
   "cell_type": "code",
   "execution_count": 1,
   "id": "d002ec48",
   "metadata": {},
   "outputs": [
    {
     "data": {
      "text/plain": [
       "['example .com',\n",
       " 'hr@fliprobo .com',\n",
       " 'github .com',\n",
       " 'Hello Data Science World',\n",
       " 'Data Scientist']"
      ]
     },
     "execution_count": 1,
     "metadata": {},
     "output_type": "execute_result"
    }
   ],
   "source": [
    "import re\n",
    "data =[\"example (.com)\", \"hr@fliprobo (.com)\", \"github (.com)\", \"Hello (Data Science World)\", \"Data (Scientist)\"]\n",
    "def neat_text(word):\n",
    "    result_text=[]\n",
    "    for url in word:\n",
    "        pattern=re.compile(\"[^\\w\\s@.]\")\n",
    "        subs=re.sub(pattern,\"\",url)\n",
    "        result_text.append(subs)\n",
    "    return result_text\n",
    "neat_text(data)\n",
    "\n"
   ]
  },
  {
   "cell_type": "markdown",
   "id": "c39c7aae",
   "metadata": {},
   "source": [
    "Question 6- Write a python program to remove the parenthesis area from the text stored in the text file using Regular Expression.\n",
    "Sample Text: [\"example (.com)\", \"hr@fliprobo (.com)\", \"github (.com)\", \"Hello (Data Science World)\", \"Data (Scientist)\"]\n",
    "Expected Output: [\"example\", \"hr@fliprobo\", \"github\", \"Hello\", \"Data\"]\n",
    "Note- Store given sample text in the text file and then to remove the parenthesis area from the text.\n"
   ]
  },
  {
   "cell_type": "code",
   "execution_count": 3,
   "id": "dc730954",
   "metadata": {},
   "outputs": [],
   "source": [
    "import re\n",
    "\n",
    "sample_text=\"example (.com)\", \"hr@fliprobo (.com)\", \"github (.com)\", \"Hello (Data Science World)\", \"Data (Scientist)\"\n",
    "modified_text=[]\n",
    "\n",
    "for line in sample_text:\n",
    "    pattern=re.compile(\"\\([^()]*\\)\")\n",
    "    sub=re.sub(pattern,\"\",line)\n",
    "    modified_text.append(sub)\n",
    "    \n",
    "with open(\"output.txt\",\"w\") as file:\n",
    "    for line in modified_text:\n",
    "        file.write(line + \"\\n\")\n",
    "\n",
    "        \n"
   ]
  },
  {
   "cell_type": "markdown",
   "id": "5f5a5d68",
   "metadata": {},
   "source": [
    "Question 7-Write a regular expression in Python to split a string into uppercase letters.\n",
    "Sample text: “ImportanceOfRegularExpressionsInPython”\n",
    "Expected Output:[‘Importance’, ‘Of’, ‘Regular’, ‘Expression’, ‘In’, ‘Python’]\n"
   ]
  },
  {
   "cell_type": "code",
   "execution_count": 11,
   "id": "6bc630a8",
   "metadata": {},
   "outputs": [
    {
     "data": {
      "text/plain": [
       "['Importance', 'Of', 'Regular', 'Expressions', 'In', 'Python']"
      ]
     },
     "execution_count": 11,
     "metadata": {},
     "output_type": "execute_result"
    }
   ],
   "source": [
    "sample_text= \"ImportanceOfRegularExpressionsInPython\"\n",
    "import re\n",
    "def split_uppcase(text):\n",
    "    pattern=(r\"(?<=[a-z])(?=[A-Z])\")\n",
    "    split=re.split(pattern,text)\n",
    "    return split\n",
    "split_uppcase(sample_text)\n"
   ]
  },
  {
   "cell_type": "markdown",
   "id": "c15afd40",
   "metadata": {},
   "source": [
    "Question 8- Create a function in python to insert spaces between words starting with numbers.\n",
    "Sample Text: “RegularExpression1IsAn2ImportantTopic3InPython\"\n",
    "Expected Output: RegularExpression 1IsAn 2ImportantTopic 3InPython\n",
    "    "
   ]
  },
  {
   "cell_type": "code",
   "execution_count": 14,
   "id": "7d72ce1f",
   "metadata": {},
   "outputs": [
    {
     "data": {
      "text/plain": [
       "'RegularExpression 1IsAn 2ImportantTopic 3InPython'"
      ]
     },
     "execution_count": 14,
     "metadata": {},
     "output_type": "execute_result"
    }
   ],
   "source": [
    "sample_text =\"RegularExpression1IsAn2ImportantTopic3InPython\"\n",
    "import re\n",
    "def word_numb_space(line):\n",
    "    pattern=re.compile(r\"(?<=[A-Za-z])(?=[0-9])\")\n",
    "    sub=re.sub(pattern,r\" \", line)\n",
    "    return sub\n",
    "\n",
    "word_numb_space(sample_text)\n",
    "\n"
   ]
  },
  {
   "cell_type": "markdown",
   "id": "491396e9",
   "metadata": {},
   "source": [
    "Question 9- Create a function in python to insert spaces between words starting with capital letters or with numbers.\n",
    "Sample Text: “RegularExpression1IsAn2ImportantTopic3InPython\"\n",
    "Expected Output:  RegularExpression 1 IsAn 2 ImportantTopic 3 InPython\n"
   ]
  },
  {
   "cell_type": "code",
   "execution_count": 15,
   "id": "ad4ec0a1",
   "metadata": {},
   "outputs": [
    {
     "data": {
      "text/plain": [
       "' Regular Expression1 Is An2 Important Topic3 In Python'"
      ]
     },
     "execution_count": 15,
     "metadata": {},
     "output_type": "execute_result"
    }
   ],
   "source": [
    "def create_space(word):\n",
    "    pattern = r\"([A-Z][a-z0-9]*|\\d+)\"\n",
    "    result=re.sub(pattern,r\" \\1\", word)\n",
    "    return result\n",
    "\n",
    "in_put=\"RegularExpression1IsAn2ImportantTopic3InPython\"\n",
    "create_space(in_put)\n"
   ]
  },
  {
   "cell_type": "markdown",
   "id": "bfdde6d0",
   "metadata": {},
   "source": [
    "Question 10- Use the github link below to read the data and create a dataframe. After creating the dataframe extract the first 6 letters of each country and store in the dataframe under a new column called first_five_letters.\n",
    "Github Link-  https://raw.githubusercontent.com/dsrscientist/DSData/master/happiness_score_dataset.csv\n"
   ]
  },
  {
   "cell_type": "code",
   "execution_count": 22,
   "id": "29b2799c",
   "metadata": {},
   "outputs": [
    {
     "data": {
      "text/html": [
       "<div>\n",
       "<style scoped>\n",
       "    .dataframe tbody tr th:only-of-type {\n",
       "        vertical-align: middle;\n",
       "    }\n",
       "\n",
       "    .dataframe tbody tr th {\n",
       "        vertical-align: top;\n",
       "    }\n",
       "\n",
       "    .dataframe thead th {\n",
       "        text-align: right;\n",
       "    }\n",
       "</style>\n",
       "<table border=\"1\" class=\"dataframe\">\n",
       "  <thead>\n",
       "    <tr style=\"text-align: right;\">\n",
       "      <th></th>\n",
       "      <th>Country</th>\n",
       "      <th>Region</th>\n",
       "      <th>Happiness Rank</th>\n",
       "      <th>Happiness Score</th>\n",
       "      <th>Standard Error</th>\n",
       "      <th>Economy (GDP per Capita)</th>\n",
       "      <th>Family</th>\n",
       "      <th>Health (Life Expectancy)</th>\n",
       "      <th>Freedom</th>\n",
       "      <th>Trust (Government Corruption)</th>\n",
       "      <th>Generosity</th>\n",
       "      <th>Dystopia Residual</th>\n",
       "      <th>first_five_letters</th>\n",
       "    </tr>\n",
       "  </thead>\n",
       "  <tbody>\n",
       "    <tr>\n",
       "      <th>0</th>\n",
       "      <td>Switzerland</td>\n",
       "      <td>Western Europe</td>\n",
       "      <td>1</td>\n",
       "      <td>7.587</td>\n",
       "      <td>0.03411</td>\n",
       "      <td>1.39651</td>\n",
       "      <td>1.34951</td>\n",
       "      <td>0.94143</td>\n",
       "      <td>0.66557</td>\n",
       "      <td>0.41978</td>\n",
       "      <td>0.29678</td>\n",
       "      <td>2.51738</td>\n",
       "      <td>Switze</td>\n",
       "    </tr>\n",
       "    <tr>\n",
       "      <th>1</th>\n",
       "      <td>Iceland</td>\n",
       "      <td>Western Europe</td>\n",
       "      <td>2</td>\n",
       "      <td>7.561</td>\n",
       "      <td>0.04884</td>\n",
       "      <td>1.30232</td>\n",
       "      <td>1.40223</td>\n",
       "      <td>0.94784</td>\n",
       "      <td>0.62877</td>\n",
       "      <td>0.14145</td>\n",
       "      <td>0.43630</td>\n",
       "      <td>2.70201</td>\n",
       "      <td>Icelan</td>\n",
       "    </tr>\n",
       "    <tr>\n",
       "      <th>2</th>\n",
       "      <td>Denmark</td>\n",
       "      <td>Western Europe</td>\n",
       "      <td>3</td>\n",
       "      <td>7.527</td>\n",
       "      <td>0.03328</td>\n",
       "      <td>1.32548</td>\n",
       "      <td>1.36058</td>\n",
       "      <td>0.87464</td>\n",
       "      <td>0.64938</td>\n",
       "      <td>0.48357</td>\n",
       "      <td>0.34139</td>\n",
       "      <td>2.49204</td>\n",
       "      <td>Denmar</td>\n",
       "    </tr>\n",
       "    <tr>\n",
       "      <th>3</th>\n",
       "      <td>Norway</td>\n",
       "      <td>Western Europe</td>\n",
       "      <td>4</td>\n",
       "      <td>7.522</td>\n",
       "      <td>0.03880</td>\n",
       "      <td>1.45900</td>\n",
       "      <td>1.33095</td>\n",
       "      <td>0.88521</td>\n",
       "      <td>0.66973</td>\n",
       "      <td>0.36503</td>\n",
       "      <td>0.34699</td>\n",
       "      <td>2.46531</td>\n",
       "      <td>Norway</td>\n",
       "    </tr>\n",
       "    <tr>\n",
       "      <th>4</th>\n",
       "      <td>Canada</td>\n",
       "      <td>North America</td>\n",
       "      <td>5</td>\n",
       "      <td>7.427</td>\n",
       "      <td>0.03553</td>\n",
       "      <td>1.32629</td>\n",
       "      <td>1.32261</td>\n",
       "      <td>0.90563</td>\n",
       "      <td>0.63297</td>\n",
       "      <td>0.32957</td>\n",
       "      <td>0.45811</td>\n",
       "      <td>2.45176</td>\n",
       "      <td>Canada</td>\n",
       "    </tr>\n",
       "  </tbody>\n",
       "</table>\n",
       "</div>"
      ],
      "text/plain": [
       "       Country          Region  Happiness Rank  Happiness Score  \\\n",
       "0  Switzerland  Western Europe               1            7.587   \n",
       "1      Iceland  Western Europe               2            7.561   \n",
       "2      Denmark  Western Europe               3            7.527   \n",
       "3       Norway  Western Europe               4            7.522   \n",
       "4       Canada   North America               5            7.427   \n",
       "\n",
       "   Standard Error  Economy (GDP per Capita)   Family  \\\n",
       "0         0.03411                   1.39651  1.34951   \n",
       "1         0.04884                   1.30232  1.40223   \n",
       "2         0.03328                   1.32548  1.36058   \n",
       "3         0.03880                   1.45900  1.33095   \n",
       "4         0.03553                   1.32629  1.32261   \n",
       "\n",
       "   Health (Life Expectancy)  Freedom  Trust (Government Corruption)  \\\n",
       "0                   0.94143  0.66557                        0.41978   \n",
       "1                   0.94784  0.62877                        0.14145   \n",
       "2                   0.87464  0.64938                        0.48357   \n",
       "3                   0.88521  0.66973                        0.36503   \n",
       "4                   0.90563  0.63297                        0.32957   \n",
       "\n",
       "   Generosity  Dystopia Residual first_five_letters  \n",
       "0     0.29678            2.51738             Switze  \n",
       "1     0.43630            2.70201             Icelan  \n",
       "2     0.34139            2.49204             Denmar  \n",
       "3     0.34699            2.46531             Norway  \n",
       "4     0.45811            2.45176             Canada  "
      ]
     },
     "execution_count": 22,
     "metadata": {},
     "output_type": "execute_result"
    }
   ],
   "source": [
    "import pandas as pd\n",
    "url = \"https://raw.githubusercontent.com/dsrscientist/DSData/master/happiness_score_dataset.csv\"\n",
    "df = pd.read_csv(url)\n",
    "df[\"first_five_letters\"] = df[\"Country\"].str[:6]\n",
    "df.head()\n",
    "\n"
   ]
  },
  {
   "cell_type": "markdown",
   "id": "d216d930",
   "metadata": {},
   "source": [
    " Question 11- Write a Python program to match a string that contains only upper and lowercase letters, numbers, and underscores."
   ]
  },
  {
   "cell_type": "code",
   "execution_count": 24,
   "id": "caea56a4",
   "metadata": {},
   "outputs": [
    {
     "data": {
      "text/plain": [
       "<re.Match object; span=(0, 14), match='The_Ram_mandir'>"
      ]
     },
     "execution_count": 24,
     "metadata": {},
     "output_type": "execute_result"
    }
   ],
   "source": [
    "import re\n",
    "string= \"The_Ram_mandir is located @ _Ayodhya, the date of pran prastisha is 22_.\"\n",
    "\n",
    "def match_character(text):\n",
    "    pattern=r\"\\w+\"\n",
    "    match=re.match(pattern,string)\n",
    "    return match\n",
    "\n",
    "match_character(string)\n"
   ]
  },
  {
   "cell_type": "markdown",
   "id": "0a4cd891",
   "metadata": {},
   "source": [
    "Question 12- Write a Python program where a string will start with a specific number"
   ]
  },
  {
   "cell_type": "code",
   "execution_count": 25,
   "id": "fe379838",
   "metadata": {},
   "outputs": [
    {
     "data": {
      "text/plain": [
       "['1vaccine', '1family', '1to', '1free', '1dose']"
      ]
     },
     "execution_count": 25,
     "metadata": {},
     "output_type": "execute_result"
    }
   ],
   "source": [
    "import re\n",
    "string =\"The 1vaccine derive for 1family is always 1to the 1free 1dose \"\n",
    "\n",
    "def numb_string(text):\n",
    "    pattern=\"1[\\w]+\"\n",
    "    result=re.findall(pattern,string)\n",
    "    return result\n",
    "\n",
    "numb_string(string)\n"
   ]
  },
  {
   "cell_type": "raw",
   "id": "107c96e4",
   "metadata": {},
   "source": [
    "Question 13- Write a Python program to remove leading zeros from an IP address"
   ]
  },
  {
   "cell_type": "code",
   "execution_count": 26,
   "id": "e405cc70",
   "metadata": {},
   "outputs": [
    {
     "data": {
      "text/plain": [
       "'216.8.94.196'"
      ]
     },
     "execution_count": 26,
     "metadata": {},
     "output_type": "execute_result"
    }
   ],
   "source": [
    "import re\n",
    "\n",
    "def rem_lead_zero(ip):\n",
    "    modified_ip=re.sub(r\"\\b0*(\\d+)\",r\"\\1\",ip)\n",
    "    return modified_ip\n",
    "\n",
    "input_ip=\"216.08.094.196\"\n",
    "rem_lead_zero(input_ip)\n",
    "\n"
   ]
  },
  {
   "cell_type": "markdown",
   "id": "00235979",
   "metadata": {},
   "source": [
    "Question 14- Write a regular expression in python to match a date string in the form of Month name followed by day number and year stored in a text file.\n",
    "Sample text :  ' On August 15th 1947 that India was declared independent from British colonialism, and the reins of control were handed over to the leaders of the Country’.\n",
    "Expected Output- August 15th 1947\n",
    "Note- Store given sample text in the text file and then extract the date string asked format.\n"
   ]
  },
  {
   "cell_type": "code",
   "execution_count": 27,
   "id": "62e380e4",
   "metadata": {},
   "outputs": [
    {
     "name": "stdout",
     "output_type": "stream",
     "text": [
      "['August 15th 1947']\n"
     ]
    }
   ],
   "source": [
    "sample=\"On August 15th 1947 that India was declared independent from British colonialism, and the reins of control were handed over to the leaders of the Country’.\"\n",
    "\n",
    "result=re.findall(\"A[\\w\\s]+.[\\d+\\b]\",sample)\n",
    "print(result)\n",
    "\n",
    "main_result=str(result)\n",
    "\n",
    "with open(\"date.txt\",\"w\") as file:\n",
    "    file.write(main_result)\n"
   ]
  },
  {
   "cell_type": "markdown",
   "id": "23fba5ef",
   "metadata": {},
   "source": [
    "Question 15- Write a Python program to search some literals strings in a string. \n",
    "Sample text : 'The quick brown fox jumps over the lazy dog.'\n",
    "Searched words : 'fox', 'dog', 'horse'"
   ]
  },
  {
   "cell_type": "code",
   "execution_count": 29,
   "id": "dac9ba8b",
   "metadata": {},
   "outputs": [
    {
     "name": "stdout",
     "output_type": "stream",
     "text": [
      "<re.Match object; span=(16, 19), match='fox'>\n",
      "fox\n",
      "<re.Match object; span=(40, 43), match='dog'>\n",
      "dog\n"
     ]
    }
   ],
   "source": [
    "text=\"The quick brown fox jumps over the lazy dog.\"\n",
    "import re\n",
    "comp_pat=re.compile(\"fox|dog|horse\")\n",
    "for match in comp_pat.finditer(text):\n",
    "    print(match)\n",
    "    print(match.group())\n"
   ]
  },
  {
   "cell_type": "markdown",
   "id": "873e7527",
   "metadata": {},
   "source": [
    "Question 16- Write a Python program to search a literals string in a string and also find the location within the original string where the pattern occurs\n",
    "Sample text : 'The quick brown fox jumps over the lazy dog.'\n",
    "Searched words : 'fox'"
   ]
  },
  {
   "cell_type": "code",
   "execution_count": 30,
   "id": "f245783d",
   "metadata": {},
   "outputs": [
    {
     "name": "stdout",
     "output_type": "stream",
     "text": [
      "<re.Match object; span=(16, 19), match='fox'>\n"
     ]
    }
   ],
   "source": [
    "import re\n",
    "text=\"The quick brown fox jumps over the lazy dog.\"\n",
    "compile_pattern= re.compile(\"fox\")\n",
    "search= re.search(compile_pattern,text)\n",
    "print(search)\n"
   ]
  },
  {
   "cell_type": "markdown",
   "id": "7cb28700",
   "metadata": {},
   "source": [
    "Question 17- Write a Python program to find the substrings within a string.\n",
    "Sample text : 'Python exercises, PHP exercises, C# exercises'\n",
    "Pattern : 'exercises'"
   ]
  },
  {
   "cell_type": "code",
   "execution_count": 32,
   "id": "9db2e9b4",
   "metadata": {},
   "outputs": [
    {
     "name": "stdout",
     "output_type": "stream",
     "text": [
      "Occurrences of 'exercises': [7, 22, 36]\n"
     ]
    }
   ],
   "source": [
    "def find_substrings(text, pattern):\n",
    "    \"\"\"\n",
    "    Finds all occurrences of a pattern within a given text.\n",
    "\n",
    "    Args:\n",
    "        text (str): The input text.\n",
    "        pattern (str): The pattern to search for.\n",
    "\n",
    "    Returns:\n",
    "        list: A list of indices where the pattern occurs.\n",
    "    \"\"\"\n",
    "    indices = []\n",
    "    start = 0\n",
    "    while True:\n",
    "        index = text.find(pattern, start)\n",
    "        if index == -1:\n",
    "            break\n",
    "        indices.append(index)\n",
    "        start = index + len(pattern)\n",
    "    return indices\n",
    "\n",
    "sample_text = 'Python exercises, PHP exercises, C# exercises'\n",
    "pattern_to_find = 'exercises'\n",
    "\n",
    "occurrences = find_substrings(sample_text, pattern_to_find)\n",
    "\n",
    "if occurrences:\n",
    "    print(f\"Occurrences of '{pattern_to_find}': {occurrences}\")\n",
    "else:\n",
    "    print(f\"No occurrences of '{pattern_to_find}' found in the sample text.\")"
   ]
  },
  {
   "cell_type": "markdown",
   "id": "064ce273",
   "metadata": {},
   "source": [
    "Question 18- Write a Python program to find the occurrence and position of the substrings within a string."
   ]
  },
  {
   "cell_type": "code",
   "execution_count": 33,
   "id": "fa80b582",
   "metadata": {},
   "outputs": [
    {
     "name": "stdout",
     "output_type": "stream",
     "text": [
      "<re.Match object; span=(19, 27), match='Superman'>\n",
      "Superman\n",
      "<re.Match object; span=(19, 31), match='Superheroman'>\n",
      "Superheroman\n"
     ]
    }
   ],
   "source": [
    "ts=\"Never say good bye Superman\"\n",
    "pattern=re.compile(\"Super(hero)*man\")\n",
    "search=pattern.search(ts)\n",
    "print(search)\n",
    "print(search.group())\n",
    "\n",
    "ts=\"Never say good bye Superheroman\"\n",
    "pattern=re.compile(\"Super(hero)*man\")\n",
    "search=pattern.search(ts)\n",
    "print(search)\n",
    "print(search.group())\n"
   ]
  },
  {
   "cell_type": "markdown",
   "id": "6cdc0dff",
   "metadata": {},
   "source": [
    "Question 19- Write a Python program to convert a date of yyyy-mm-dd format to dd-mm-yyyy format"
   ]
  },
  {
   "cell_type": "code",
   "execution_count": 34,
   "id": "03d3bc6c",
   "metadata": {},
   "outputs": [
    {
     "name": "stdout",
     "output_type": "stream",
     "text": [
      "Year month day format 2024-02-03\n",
      "The Req format 03-02-2024\n"
     ]
    }
   ],
   "source": [
    "import re\n",
    "\n",
    "\n",
    "def change_date_format(dt):\n",
    "    mod_date=re.sub(\"(\\d{4})-(\\d{1,2})-(\\d{1,2})\",r\"\\3-\\2-\\1\",dt)\n",
    "    return mod_date\n",
    "\n",
    "dt1=\"2024-02-03\"\n",
    "\n",
    "print(\"Year month day format\",dt1)\n",
    "print(\"The Req format\",change_date_format(dt1))\n"
   ]
  },
  {
   "cell_type": "markdown",
   "id": "9ec655f7",
   "metadata": {},
   "source": [
    "Question 20- Create a function in python to find all decimal numbers with a precision of 1 or 2 in a string. The use of the re.compile() method is mandatory.\n",
    "Sample Text: \"01.12 0132.123 2.31875 145.8 3.01 27.25 0.25\"\n"
   ]
  },
  {
   "cell_type": "code",
   "execution_count": 35,
   "id": "2e34c3e8",
   "metadata": {},
   "outputs": [
    {
     "name": "stdout",
     "output_type": "stream",
     "text": [
      "The Expected output: ['01.12', '145.8', '3.01', '27.25', '0.25']\n"
     ]
    }
   ],
   "source": [
    "def decimal_value(line):\n",
    "    comp_pattern=re.compile(r\"\\b\\d+\\.\\d{1,2}\\b\")\n",
    "    result=comp_pattern.findall(line)\n",
    "    return result\n",
    "\n",
    "text=\"01.12 0132.123 2.31875 145.8 3.01 27.25 0.25\"\n",
    "print(\"The Expected output:\",decimal_value(text))\n"
   ]
  },
  {
   "cell_type": "markdown",
   "id": "66ee919a",
   "metadata": {},
   "source": [
    "Question 21- Write a Python program to separate and print the numbers and their position of a given string."
   ]
  },
  {
   "cell_type": "code",
   "execution_count": 36,
   "id": "eb3ef4b7",
   "metadata": {},
   "outputs": [
    {
     "name": "stdout",
     "output_type": "stream",
     "text": [
      "<re.Match object; span=(27, 30), match='200'>\n",
      "200\n",
      "<re.Match object; span=(34, 35), match='1'>\n",
      "1\n"
     ]
    }
   ],
   "source": [
    "import re\n",
    "\n",
    "def sep_print_position(line):\n",
    "    result=re.finditer(r\"\\d+\",line)\n",
    "    for match in result:\n",
    "        print(match)\n",
    "        print(match.group())\n",
    "    \n",
    "    \n",
    "    \n",
    "text=\"Yashavi jaiswal has scored 200 in 1 match of his test debut.\"\n",
    "sep_print_position(text)\n"
   ]
  },
  {
   "cell_type": "markdown",
   "id": "9e3e6341",
   "metadata": {},
   "source": [
    "Question 22- Write a regular expression in python program to extract maximum/largest numeric value from a string.\n",
    "Sample Text:  'My marks in each semester are: 947, 896, 926, 524, 734, 950, 642'\n",
    "Expected Output: 950\n"
   ]
  },
  {
   "cell_type": "code",
   "execution_count": 37,
   "id": "c724adf9",
   "metadata": {},
   "outputs": [
    {
     "name": "stdout",
     "output_type": "stream",
     "text": [
      "Maximun number: 950\n"
     ]
    }
   ],
   "source": [
    "def max_numeric_value(val):\n",
    "    result=re.findall(r\"\\d+\",val)\n",
    "    return max(result)\n",
    "\n",
    "string=\"947, 896, 926, 524, 734, 950, 642\"\n",
    "print(\"Maximun number:\",max_numeric_value(string))\n"
   ]
  },
  {
   "cell_type": "markdown",
   "id": "59d7c88e",
   "metadata": {},
   "source": [
    "Question 23- Create a function in python to insert spaces between words starting with capital letters.\n",
    "Sample Text: “RegularExpressionIsAnImportantTopicInPython\"\n",
    "Expected Output: Regular Expression Is An Important Topic In Python"
   ]
  },
  {
   "cell_type": "code",
   "execution_count": 38,
   "id": "07ce3f05",
   "metadata": {},
   "outputs": [
    {
     "data": {
      "text/plain": [
       "'Regular Expression Is An Important Topic In Python '"
      ]
     },
     "execution_count": 38,
     "metadata": {},
     "output_type": "execute_result"
    }
   ],
   "source": [
    "def insert_space(text):\n",
    "    pattern=r\"([A-Z][a-z]*)\"\n",
    "    result=re.sub(pattern, r\"\\1 \",text)\n",
    "    return result\n",
    "\n",
    "string= \"RegularExpressionIsAnImportantTopicInPython\"\n",
    "insert_space(string)"
   ]
  },
  {
   "cell_type": "markdown",
   "id": "3f8312ba",
   "metadata": {},
   "source": [
    "Question 24- Python regex to find sequences of one upper case letter followed by lower case letters"
   ]
  },
  {
   "cell_type": "code",
   "execution_count": 39,
   "id": "e39aba79",
   "metadata": {},
   "outputs": [
    {
     "name": "stdout",
     "output_type": "stream",
     "text": [
      "['Python', 'Regex', 'Find', 'Sequence', 'Upper', 'Letter', 'Followed', 'Lower', 'Case', 'Tters']\n"
     ]
    }
   ],
   "source": [
    "import re \n",
    "\n",
    "def case_letter(val):\n",
    "    pattern=\"([A-Z][a-z]+)\"\n",
    "    search=re.findall(pattern,val)\n",
    "    print(search)\n",
    "\n",
    "input_text=\"Python Regex to Find Sequence of one Upper CASE Letter Followed BY Lower Case LETters\"\n",
    "case_letter(input_text)\n"
   ]
  },
  {
   "cell_type": "markdown",
   "id": "191e56a9",
   "metadata": {},
   "source": [
    "Question 25- Write a Python program to remove continuous duplicate words from Sentence using Regular Expression.\n",
    "Sample Text: \"Hello hello world world\"\n",
    "Expected Output: Hello hello world"
   ]
  },
  {
   "cell_type": "code",
   "execution_count": 40,
   "id": "55c6306d",
   "metadata": {},
   "outputs": [
    {
     "name": "stdout",
     "output_type": "stream",
     "text": [
      "Hello hello world\n"
     ]
    }
   ],
   "source": [
    "def rem_dup_words(text):\n",
    "    pattern=r\"\\b(\\w+)(?:\\W+\\1\\b)+\"\n",
    "    sub=re.sub(pattern,r\"\\1\",text)\n",
    "    print(sub)\n",
    "    \n",
    "    \n",
    "    \n",
    "string=\"Hello hello world world\"\n",
    "rem_dup_words(string)\n"
   ]
  },
  {
   "cell_type": "markdown",
   "id": "78f2139c",
   "metadata": {},
   "source": [
    "Question 26-  Write a python program using RegEx to accept string ending with alphanumeric character."
   ]
  },
  {
   "cell_type": "code",
   "execution_count": 41,
   "id": "77532f02",
   "metadata": {
    "scrolled": true
   },
   "outputs": [
    {
     "name": "stdout",
     "output_type": "stream",
     "text": [
      "Accept\n",
      "Decline\n",
      "Accept\n"
     ]
    }
   ],
   "source": [
    "def alpha_numeric(text):\n",
    "    regex=r\"\\w$\"\n",
    "    if re.search(regex,text):\n",
    "        print(\"Accept\")\n",
    "    else:\n",
    "        print(\"Decline\")\n",
    "        \n",
    "        \n",
    "        \n",
    "string1=\"Sach@1286\"\n",
    "string2=\"Sach#\"\n",
    "string3=\"Sach_\"\n",
    "        \n",
    "alpha_numeric(string1)\n",
    "alpha_numeric(string2)\n",
    "alpha_numeric(string3)\n"
   ]
  },
  {
   "cell_type": "markdown",
   "id": "8e6762eb",
   "metadata": {},
   "source": [
    "Question 27-Write a python program using RegEx to extract the hashtags.\n",
    "Sample Text:  \"\"\"RT @kapil_kausik: #Doltiwal I mean #xyzabc is \"hurt\" by #Demonetization as the same has rendered USELESS <ed><U+00A0><U+00BD><ed><U+00B1><U+0089> \"acquired funds\" No wo\"\"\"\n",
    "Expected Output: ['#Doltiwal', '#xyzabc', '#Demonetization']"
   ]
  },
  {
   "cell_type": "code",
   "execution_count": 42,
   "id": "1adf21b7",
   "metadata": {},
   "outputs": [
    {
     "name": "stdout",
     "output_type": "stream",
     "text": [
      "['#Doltiwal', '#xyzabc', '#Demonetization']\n"
     ]
    }
   ],
   "source": [
    "def extract_hashtag(text):\n",
    "    regex=r\"\\#[\\w]+\"\n",
    "    find=re.findall(regex,text)\n",
    "    print(find)\n",
    "    \n",
    "string=\"\"\"RT @kapil_kausik: #Doltiwal I mean #xyzabc is \"hurt\" by #Demonetization as the same has rendered USELESS <ed><U+00A0><U+00BD><ed><U+00B1><U+0089> \"acquired funds\" No wo\"\"\"\n",
    "extract_hashtag(string)\n",
    "\n"
   ]
  },
  {
   "cell_type": "markdown",
   "id": "a397f234",
   "metadata": {},
   "source": [
    "Question 28- Write a python program using RegEx to remove <U+..> like symbols\n",
    "Check the below sample text, there are strange symbols something of the sort <U+..> all over the place. You need to come up with a general Regex expression that will cover all such symbols.\n",
    "Sample Text: \"@Jags123456 Bharat band on 28??<ed><U+00A0><U+00BD><ed><U+00B8><U+0082>Those who  are protesting #demonetization  are all different party leaders\"\n",
    "Expected Output: @Jags123456 Bharat band on 28??<ed><ed>Those who  are protesting #demonetization  are all different party leaders"
   ]
  },
  {
   "cell_type": "code",
   "execution_count": 49,
   "id": "ad377b0c",
   "metadata": {},
   "outputs": [
    {
     "ename": "SyntaxError",
     "evalue": "unterminated string literal (detected at line 2) (3560585227.py, line 2)",
     "output_type": "error",
     "traceback": [
      "\u001b[1;36m  Cell \u001b[1;32mIn[49], line 2\u001b[1;36m\u001b[0m\n\u001b[1;33m    pattern=r\"<U\\+[\\w]+>”\u001b[0m\n\u001b[1;37m            ^\u001b[0m\n\u001b[1;31mSyntaxError\u001b[0m\u001b[1;31m:\u001b[0m unterminated string literal (detected at line 2)\n"
     ]
    }
   ],
   "source": [
    "def clean_text(val):\n",
    "    pattern=r\"<U\\+[\\w]+>”\n",
    "  sub=re.sub(pattern, \"\",val)\n",
    "    print(sub)\n",
    "    \n",
    "    sample_text=\"@Jags123456 Bharat band on28??<ed><U+00A0><U+00BD><ed><U+00B8><U+0082>Those who  are protesting #demonetization  are all different party leaders\"\n",
    "clean_text(sample_text)\n",
    "\n"
   ]
  },
  {
   "cell_type": "markdown",
   "id": "7caa8e4f",
   "metadata": {},
   "source": [
    "Question 29- Write a python program to extract dates from the text stored in the text file.\n",
    "Sample Text: Ron was born on 12-09-1992 and he was admitted to school 15-12-1999.\n",
    "Note- Store this sample text in the file and then extract dates."
   ]
  },
  {
   "cell_type": "code",
   "execution_count": 58,
   "id": "e3b8a6c7",
   "metadata": {
    "scrolled": true
   },
   "outputs": [
    {
     "ename": "IndentationError",
     "evalue": "unindent does not match any outer indentation level (<tokenize>, line 6)",
     "output_type": "error",
     "traceback": [
      "\u001b[1;36m  File \u001b[1;32m<tokenize>:6\u001b[1;36m\u001b[0m\n\u001b[1;33m    def extract_dates(file_path):\u001b[0m\n\u001b[1;37m    ^\u001b[0m\n\u001b[1;31mIndentationError\u001b[0m\u001b[1;31m:\u001b[0m unindent does not match any outer indentation level\n"
     ]
    }
   ],
   "source": [
    "sample_text=\"Ron was born on 12-09-1992 and he was admitted to school 15-12-1999.\"\n",
    "\n",
    "with open(\"sample_text.txt\",\"w\") as file:\n",
    "    file.write(sample_text)\n",
    "    \n",
    "   def extract_dates(file_path):\n",
    "    with open(file_path,\"r\") as file:\n",
    "        text=file.read()\n",
    "        regex=re.compile(r\"(\\d{2})-(\\d{2})-(\\d{4})\")\n",
    "        dates= regex.findall(text)\n",
    "        return dates\n",
    "    ed=extract_dates(\"sample_text.txt\")\n",
    "    print(\"Extracted Dates:\",ed)\n"
   ]
  },
  {
   "cell_type": "markdown",
   "id": "d24fc697",
   "metadata": {},
   "source": [
    "Question 30- Create a function in python to remove all words from a string of length between 2 and 4.\n",
    "The use of the re.compile() method is mandatory.\n",
    "Sample Text: \"The following example creates an ArrayList with a capacity of 50 elements. 4 elements are then added to the ArrayList and the ArrayList is trimmed accordingly.\""
   ]
  },
  {
   "cell_type": "code",
   "execution_count": 59,
   "id": "9ac68114",
   "metadata": {},
   "outputs": [
    {
     "name": "stdout",
     "output_type": "stream",
     "text": [
      " following example creates  ArrayList  a capacity   elements. 4 elements   added   ArrayList   ArrayList  trimmed accordingly.\n"
     ]
    }
   ],
   "source": [
    "import re\n",
    "def trim_words(line):\n",
    "    pattern=re.compile(r\"\\b\\w{2,4}\\b\")\n",
    "    result=pattern.sub(\"\", line)\n",
    "    print(result)\n",
    "\n",
    "input_string=\"The following example creates an ArrayList with a capacity of 50 elements. 4 elements are then added to the ArrayList and the ArrayList is trimmed accordingly.\"\n",
    "trim_words(input_string)\n"
   ]
  },
  {
   "cell_type": "code",
   "execution_count": null,
   "id": "ff5c4956",
   "metadata": {},
   "outputs": [],
   "source": []
  }
 ],
 "metadata": {
  "kernelspec": {
   "display_name": "Python 3 (ipykernel)",
   "language": "python",
   "name": "python3"
  },
  "language_info": {
   "codemirror_mode": {
    "name": "ipython",
    "version": 3
   },
   "file_extension": ".py",
   "mimetype": "text/x-python",
   "name": "python",
   "nbconvert_exporter": "python",
   "pygments_lexer": "ipython3",
   "version": "3.11.5"
  }
 },
 "nbformat": 4,
 "nbformat_minor": 5
}
